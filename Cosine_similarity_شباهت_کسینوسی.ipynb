{
  "nbformat": 4,
  "nbformat_minor": 0,
  "metadata": {
    "colab": {
      "provenance": []
    },
    "kernelspec": {
      "name": "python3",
      "display_name": "Python 3"
    },
    "language_info": {
      "name": "python"
    }
  },
  "cells": [
    {
      "cell_type": "markdown",
      "source": [
        "![Screenshot.5.png](data:image/png;base64,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)"
      ],
      "metadata": {
        "id": "YM13jq8EGVwn"
      }
    },
    {
      "cell_type": "code",
      "source": [
        "import numpy as np\n"
      ],
      "metadata": {
        "id": "aV-OysArPc6z"
      },
      "execution_count": 1,
      "outputs": []
    },
    {
      "cell_type": "code",
      "source": [
        "def cosine_sim(u , v):\n",
        "  dot = np.dot(u,v)\n",
        "  norm_u=np.linalg.norm(u, ord=2)\n",
        "  norm_v=np.linalg.norm(v, ord=2)\n",
        "\n",
        "  cosine_similarity=dot/ (norm_u * norm_v)\n",
        "\n",
        "  if np.isclose(norm_u * norm_v , 0, atol=1e-32):\n",
        "   return 0\n",
        "\n",
        "  if np.all(u == v):\n",
        "   return 1\n",
        "\n",
        "  return cosine_similarity"
      ],
      "metadata": {
        "id": "8lnmNbPlPg_Y"
      },
      "execution_count": 4,
      "outputs": []
    },
    {
      "cell_type": "code",
      "source": [
        "father = np.array([0.5 , 0.3 , 0.1])\n",
        "mother = np.array([0.2 , 0.7 , 0.9])"
      ],
      "metadata": {
        "id": "SMAWkQHOSK5t"
      },
      "execution_count": 5,
      "outputs": []
    },
    {
      "cell_type": "code",
      "source": [
        "print(\"cosine_similarity(father,mother )=\" ,cosine_sim(father , mother) )"
      ],
      "metadata": {
        "colab": {
          "base_uri": "https://localhost:8080/"
        },
        "id": "BGs01rl1TwbD",
        "outputId": "9cdad778-de84-43a2-ad72-fd6a4f4e7ec7"
      },
      "execution_count": 6,
      "outputs": [
        {
          "output_type": "stream",
          "name": "stdout",
          "text": [
            "cosine_similarity(father,mother )= 0.5840816603245693\n"
          ]
        }
      ]
    }
  ]
}