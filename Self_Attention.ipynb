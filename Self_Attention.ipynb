{
  "nbformat": 4,
  "nbformat_minor": 0,
  "metadata": {
    "colab": {
      "provenance": []
    },
    "kernelspec": {
      "name": "python3",
      "display_name": "Python 3"
    },
    "language_info": {
      "name": "python"
    }
  },
  "cells": [
    {
      "cell_type": "markdown",
      "source": [
        "## Generate Data"
      ],
      "metadata": {
        "id": "HedntyUvLrBo"
      }
    },
    {
      "cell_type": "code",
      "source": [
        "import numpy as np\n",
        "import math\n",
        "\n",
        "L, d_k, d_v = 4, 8, 8\n",
        "q = np.random.randn(L, d_k)\n",
        "k = np.random.randn(L, d_k)\n",
        "v = np.random.randn(L, d_v)"
      ],
      "metadata": {
        "id": "xtKbaWhFJui3"
      },
      "execution_count": 1,
      "outputs": []
    },
    {
      "cell_type": "code",
      "source": [
        "print(\"Q\\n\", q)\n",
        "print(\"K\\n\", k)\n",
        "print(\"V\\n\", v)"
      ],
      "metadata": {
        "colab": {
          "base_uri": "https://localhost:8080/"
        },
        "id": "09JpvuNJ2sZC",
        "outputId": "41636007-2c7f-4805-989b-ce873de932ff",
        "collapsed": true
      },
      "execution_count": 2,
      "outputs": [
        {
          "output_type": "stream",
          "name": "stdout",
          "text": [
            "Q\n",
            " [[-0.67239746  0.65643026 -0.38607383  1.04259749  1.18984462 -0.71930886\n",
            "   1.52166802 -1.26141514]\n",
            " [ 0.06669797  0.0403164  -0.45386231 -1.14674233 -0.7245614  -0.58857103\n",
            "  -1.06170008  0.64068057]\n",
            " [-2.55357512  0.11218279  0.00908873  3.01800334  0.51084095  0.10120081\n",
            "   0.72977999 -1.41511397]\n",
            " [ 0.1308654   0.24656579 -1.70066495 -1.15488767  1.37924421  1.15747264\n",
            "  -0.68524438  2.3559399 ]]\n",
            "K\n",
            " [[-1.03335093 -0.70666215  0.60421157  1.57414063  1.13874658 -0.26711968\n",
            "  -0.40700281 -0.50892546]\n",
            " [-0.03834118 -1.24276769  0.21820102  0.80058268 -1.60568339 -0.30186671\n",
            "   0.5182941  -0.5313478 ]\n",
            " [-0.98923012 -2.36330413  1.13727085 -0.68193675  1.54144524 -0.15662151\n",
            "  -1.52785808  0.54584296]\n",
            " [-0.63433113 -0.00321842 -0.53127923 -2.12506945 -0.94181991 -0.53916661\n",
            "  -1.13275906  1.1341112 ]]\n",
            "V\n",
            " [[ 0.13644799 -1.10300126  0.23957621  0.43252026 -0.74035559  0.38309679\n",
            "   0.35594858  0.52655438]\n",
            " [-0.38208085  0.7062285  -0.72487066 -0.71447198  1.05291698 -0.41719128\n",
            "   0.49156709 -0.14188491]\n",
            " [-0.84336269 -1.84067948  0.32512646  1.48567217 -0.69899255  0.92726104\n",
            "   1.01400469  0.71239883]\n",
            " [-0.26680282  0.40034719  0.353282   -0.77175882  0.21169001 -0.80549776\n",
            "  -0.89420355  0.4329166 ]]\n"
          ]
        }
      ]
    },
    {
      "cell_type": "markdown",
      "source": [
        "## Self Attention\n",
        "\n",
        "$$\n",
        "\\text{self attention} = softmax\\bigg(\\frac{Q.K^T}{\\sqrt{d_k}}+M\\bigg)\n",
        "$$\n",
        "\n",
        "$$\n",
        "\\text{new V} = \\text{self attention}.V\n",
        "$$"
      ],
      "metadata": {
        "id": "tV6txskBLwjh"
      }
    },
    {
      "cell_type": "code",
      "source": [
        "np.matmul(q, k.T)"
      ],
      "metadata": {
        "colab": {
          "base_uri": "https://localhost:8080/"
        },
        "id": "x7GePHKk3Mh0",
        "outputId": "8bfb5b9b-2305-490d-f7b0-18799868c776",
        "collapsed": true
      },
      "execution_count": 3,
      "outputs": [
        {
          "output_type": "execute_result",
          "data": {
            "text/plain": [
              "array([[ 3.20858905, -0.27402265, -3.10293238, -5.47312939],\n",
              "       [-2.73859167, -0.61936736,  1.051731  ,  5.56459396],\n",
              "       [ 8.29356775,  2.65599471, -0.90264679, -7.76608999],\n",
              "       [-2.81366113, -5.778125  ,  2.41895141,  4.79898326]])"
            ]
          },
          "metadata": {},
          "execution_count": 3
        }
      ]
    },
    {
      "cell_type": "code",
      "source": [
        "# Why we need sqrt(d_k) in denominator\n",
        "q.var(), k.var(), np.matmul(q, k.T).var()"
      ],
      "metadata": {
        "colab": {
          "base_uri": "https://localhost:8080/"
        },
        "id": "odK76OoI3nL2",
        "outputId": "81dafde6-2ae7-4319-d44e-58e1628d3117"
      },
      "execution_count": 4,
      "outputs": [
        {
          "output_type": "execute_result",
          "data": {
            "text/plain": [
              "(1.3720152411174946, 0.9811603765925998, 18.557568998436647)"
            ]
          },
          "metadata": {},
          "execution_count": 4
        }
      ]
    },
    {
      "cell_type": "code",
      "source": [
        "scaled = np.matmul(q, k.T) / math.sqrt(d_k)\n",
        "q.var(), k.var(), scaled.var()"
      ],
      "metadata": {
        "colab": {
          "base_uri": "https://localhost:8080/"
        },
        "id": "0Ps6AY1Q3tRI",
        "outputId": "b1c07438-82b6-494d-de31-025275a374af"
      },
      "execution_count": 5,
      "outputs": [
        {
          "output_type": "execute_result",
          "data": {
            "text/plain": [
              "(1.3720152411174946, 0.9811603765925998, 2.3196961248045804)"
            ]
          },
          "metadata": {},
          "execution_count": 5
        }
      ]
    },
    {
      "cell_type": "code",
      "source": [
        "scaled"
      ],
      "metadata": {
        "colab": {
          "base_uri": "https://localhost:8080/"
        },
        "id": "LVHAJR4N4VQX",
        "outputId": "e4cac672-bba8-40d8-fa4e-0e1b543e3b38"
      },
      "execution_count": 6,
      "outputs": [
        {
          "output_type": "execute_result",
          "data": {
            "text/plain": [
              "array([[ 1.13440754, -0.09688164, -1.09705226, -1.93504345],\n",
              "       [-0.96823837, -0.21897943,  0.37184306,  1.96738106],\n",
              "       [ 2.932219  ,  0.93903594, -0.31913383, -2.74572745],\n",
              "       [-0.99477943, -2.04287568,  0.85522847,  1.6966968 ]])"
            ]
          },
          "metadata": {},
          "execution_count": 6
        }
      ]
    },
    {
      "cell_type": "markdown",
      "source": [
        "## Softmax\n",
        "\n",
        "$$\n",
        "\\text{softmax} = \\frac{e^{x_i}}{\\sum_j e^x_j}\n",
        "$$"
      ],
      "metadata": {
        "id": "XMTAXjooN9eZ"
      }
    },
    {
      "cell_type": "code",
      "source": [
        "def softmax(x):\n",
        "  return (np.exp(x).T / np.sum(np.exp(x), axis=-1)).T"
      ],
      "metadata": {
        "id": "2R4gdRqj8W4Y"
      },
      "execution_count": 7,
      "outputs": []
    },
    {
      "cell_type": "code",
      "source": [
        "attention = softmax(scaled)"
      ],
      "metadata": {
        "id": "K5eg2zPy41sP"
      },
      "execution_count": 8,
      "outputs": []
    },
    {
      "cell_type": "code",
      "source": [
        "attention"
      ],
      "metadata": {
        "colab": {
          "base_uri": "https://localhost:8080/"
        },
        "id": "7sauNmfl-1TB",
        "outputId": "8269572e-2d4f-4e99-c6a3-f0ac1d93f78c"
      },
      "execution_count": 9,
      "outputs": [
        {
          "output_type": "execute_result",
          "data": {
            "text/plain": [
              "array([[0.69169006, 0.2019154 , 0.07426785, 0.03212668],\n",
              "       [0.0388079 , 0.08209546, 0.14822111, 0.73087553],\n",
              "       [0.84860585, 0.11563189, 0.03285954, 0.00290272],\n",
              "       [0.04451584, 0.01560746, 0.28311495, 0.65676175]])"
            ]
          },
          "metadata": {},
          "execution_count": 9
        }
      ]
    },
    {
      "cell_type": "code",
      "source": [
        "new_v = np.matmul(attention, v)\n",
        "new_v"
      ],
      "metadata": {
        "colab": {
          "base_uri": "https://localhost:8080/"
        },
        "id": "BAy37go56LZo",
        "outputId": "ea8a13cb-0833-46f1-876c-be711ecd31aa"
      },
      "execution_count": 10,
      "outputs": [
        {
          "output_type": "execute_result",
          "data": {
            "text/plain": [
              "array([[-0.05397451, -0.74417808,  0.05484616,  0.2404507 , -0.34460823,\n",
              "         0.22373461,  0.39204122,  0.40238019],\n",
              "       [-0.34607565,  0.03494939,  0.25618464, -0.38572136,  0.10882165,\n",
              "        -0.47066127, -0.44908555,  0.43078706],\n",
              "       [ 0.04312287, -0.91367257,  0.13119659,  0.33100178, -0.5288734 ,\n",
              "         0.3049888 ,  0.38962498,  0.45509644],\n",
              "       [-0.41388369, -0.29626975,  0.32342182, -0.07814276, -0.07538953,\n",
              "        -0.25595608, -0.27668134,  0.50723937]])"
            ]
          },
          "metadata": {},
          "execution_count": 10
        }
      ]
    },
    {
      "cell_type": "markdown",
      "source": [
        "# Function"
      ],
      "metadata": {
        "id": "nSiJuBQELFHT"
      }
    },
    {
      "cell_type": "code",
      "source": [
        "def softmax(x):\n",
        "  return (np.exp(x).T / np.sum(np.exp(x), axis=-1)).T\n",
        "\n",
        "def scaled_dot_product_attention(q, k, v):\n",
        "  d_k = q.shape[-1]\n",
        "  scaled = np.matmul(q, k.T) / math.sqrt(d_k)\n",
        "  attention = softmax(scaled)\n",
        "  out = np.matmul(attention, v)\n",
        "  return out, attention"
      ],
      "metadata": {
        "id": "XvTnmdcB_jdq"
      },
      "execution_count": 11,
      "outputs": []
    },
    {
      "cell_type": "code",
      "source": [
        "values, attention = scaled_dot_product_attention(q, k, v)\n",
        "print(\"Q\\n\", q)\n",
        "print(\"K\\n\", k)\n",
        "print(\"V\\n\", v)\n",
        "print(\"New V\\n\", values)\n",
        "print(\"Attention\\n\", attention)"
      ],
      "metadata": {
        "colab": {
          "base_uri": "https://localhost:8080/"
        },
        "id": "KSxLkZdiSLMT",
        "outputId": "5600a86e-112e-48cb-db52-12ef19d6b1cc"
      },
      "execution_count": 12,
      "outputs": [
        {
          "output_type": "stream",
          "name": "stdout",
          "text": [
            "Q\n",
            " [[-0.67239746  0.65643026 -0.38607383  1.04259749  1.18984462 -0.71930886\n",
            "   1.52166802 -1.26141514]\n",
            " [ 0.06669797  0.0403164  -0.45386231 -1.14674233 -0.7245614  -0.58857103\n",
            "  -1.06170008  0.64068057]\n",
            " [-2.55357512  0.11218279  0.00908873  3.01800334  0.51084095  0.10120081\n",
            "   0.72977999 -1.41511397]\n",
            " [ 0.1308654   0.24656579 -1.70066495 -1.15488767  1.37924421  1.15747264\n",
            "  -0.68524438  2.3559399 ]]\n",
            "K\n",
            " [[-1.03335093 -0.70666215  0.60421157  1.57414063  1.13874658 -0.26711968\n",
            "  -0.40700281 -0.50892546]\n",
            " [-0.03834118 -1.24276769  0.21820102  0.80058268 -1.60568339 -0.30186671\n",
            "   0.5182941  -0.5313478 ]\n",
            " [-0.98923012 -2.36330413  1.13727085 -0.68193675  1.54144524 -0.15662151\n",
            "  -1.52785808  0.54584296]\n",
            " [-0.63433113 -0.00321842 -0.53127923 -2.12506945 -0.94181991 -0.53916661\n",
            "  -1.13275906  1.1341112 ]]\n",
            "V\n",
            " [[ 0.13644799 -1.10300126  0.23957621  0.43252026 -0.74035559  0.38309679\n",
            "   0.35594858  0.52655438]\n",
            " [-0.38208085  0.7062285  -0.72487066 -0.71447198  1.05291698 -0.41719128\n",
            "   0.49156709 -0.14188491]\n",
            " [-0.84336269 -1.84067948  0.32512646  1.48567217 -0.69899255  0.92726104\n",
            "   1.01400469  0.71239883]\n",
            " [-0.26680282  0.40034719  0.353282   -0.77175882  0.21169001 -0.80549776\n",
            "  -0.89420355  0.4329166 ]]\n",
            "New V\n",
            " [[-0.05397451 -0.74417808  0.05484616  0.2404507  -0.34460823  0.22373461\n",
            "   0.39204122  0.40238019]\n",
            " [-0.34607565  0.03494939  0.25618464 -0.38572136  0.10882165 -0.47066127\n",
            "  -0.44908555  0.43078706]\n",
            " [ 0.04312287 -0.91367257  0.13119659  0.33100178 -0.5288734   0.3049888\n",
            "   0.38962498  0.45509644]\n",
            " [-0.41388369 -0.29626975  0.32342182 -0.07814276 -0.07538953 -0.25595608\n",
            "  -0.27668134  0.50723937]]\n",
            "Attention\n",
            " [[0.69169006 0.2019154  0.07426785 0.03212668]\n",
            " [0.0388079  0.08209546 0.14822111 0.73087553]\n",
            " [0.84860585 0.11563189 0.03285954 0.00290272]\n",
            " [0.04451584 0.01560746 0.28311495 0.65676175]]\n"
          ]
        }
      ]
    }
  ]
}