{
  "nbformat": 4,
  "nbformat_minor": 0,
  "metadata": {
    "colab": {
      "provenance": []
    },
    "kernelspec": {
      "name": "python3",
      "display_name": "Python 3"
    },
    "language_info": {
      "name": "python"
    }
  },
  "cells": [
    {
      "cell_type": "code",
      "source": [
        "def one_hot_encode(text):\n",
        "  words=text.split()\n",
        "  vocab=set(words)\n",
        "  word_to_index = {word: i for i, word in enumerate(vocab)}\n",
        "  one_hot_encoded = []\n",
        "  for word in words:\n",
        "    one_hot_vector = [0]*len(vocab)\n",
        "    one_hot_vector[word_to_index[word]]=1\n",
        "    one_hot_encoded.append(one_hot_vector)\n",
        "\n",
        "  return  one_hot_encoded,  word_to_index, vocab"
      ],
      "metadata": {
        "id": "YHFE2yaAIDIk"
      },
      "execution_count": 1,
      "outputs": []
    },
    {
      "cell_type": "code",
      "source": [
        "ex= \"I am interested in learning about Natural Language Processing \"\n",
        "one_hot_encoded, word_to_index, vocab = one_hot_encode(ex)\n",
        "print(\"Vocabulary:\",vocab)\n",
        "print(\"Word To Index:\", word_to_index)\n",
        "print(\"One-hot Encode Matrix:\")\n",
        "for word, encoding in zip(ex.split(), one_hot_encoded ):\n",
        "  print(f\"{word} : {encoding}\")"
      ],
      "metadata": {
        "colab": {
          "base_uri": "https://localhost:8080/"
        },
        "id": "PJWHWdsaQuYW",
        "outputId": "711a5c74-0856-4dc5-bbd1-dc19517d1bac"
      },
      "execution_count": 2,
      "outputs": [
        {
          "output_type": "stream",
          "name": "stdout",
          "text": [
            "Vocabulary: {'about', 'am', 'interested', 'Language', 'Processing', 'I', 'Natural', 'learning', 'in'}\n",
            "Word To Index: {'about': 0, 'am': 1, 'interested': 2, 'Language': 3, 'Processing': 4, 'I': 5, 'Natural': 6, 'learning': 7, 'in': 8}\n",
            "One-hot Encode Matrix:\n",
            "I : [0, 0, 0, 0, 0, 1, 0, 0, 0]\n",
            "am : [0, 1, 0, 0, 0, 0, 0, 0, 0]\n",
            "interested : [0, 0, 1, 0, 0, 0, 0, 0, 0]\n",
            "in : [0, 0, 0, 0, 0, 0, 0, 0, 1]\n",
            "learning : [0, 0, 0, 0, 0, 0, 0, 1, 0]\n",
            "about : [1, 0, 0, 0, 0, 0, 0, 0, 0]\n",
            "Natural : [0, 0, 0, 0, 0, 0, 1, 0, 0]\n",
            "Language : [0, 0, 0, 1, 0, 0, 0, 0, 0]\n",
            "Processing : [0, 0, 0, 0, 1, 0, 0, 0, 0]\n"
          ]
        }
      ]
    }
  ]
}